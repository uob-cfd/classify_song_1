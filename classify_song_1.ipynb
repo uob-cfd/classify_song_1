{
 "cells": [
  {
   "cell_type": "markdown",
   "metadata": {},
   "source": [
    "# Song Classification, Part 1"
   ]
  },
  {
   "cell_type": "markdown",
   "metadata": {},
   "source": [
    "## This exercise comes from the Berkeley data science teaching materials\n",
    "\n",
    "This exercise is a version of section 3, lab 4 from\n",
    "<https://github.com/data-8/materials-x19> with thanks.  See that URL for more\n",
    "on the license for these materials.  We release this version, like the\n",
    "original, under the  [Creative Commons Attribution-NonCommercial 4.0\n",
    "International license](https://creativecommons.org/licenses/by-nc/4.0) (CC\n",
    "BY-NC 4.0)."
   ]
  },
  {
   "cell_type": "markdown",
   "metadata": {},
   "source": [
    "## The song classifier\n",
    "\n",
    "Over the next two labs, you will build your own song classifier using k-nearest\n",
    "neighbors.\n",
    "\n",
    "This is part 1 of the investigation.  Part 2 will follow soon.\n",
    "\n",
    "You will build a classifier that guesses whether a song is hip-hop or country,\n",
    "using only the numbers of times words appear in the song's lyrics.  By the end\n",
    "of the project, you should know how to:\n",
    "\n",
    "1. Clean and organize a dataset used to test a machine learning model\n",
    "2. Build a k-nearest neighbors classifier\n",
    "3. Test a classifier on data\n",
    "\n",
    "**Advice.** Develop your answers incrementally. To perform a complicated table\n",
    "manipulation, break it up into steps, perform each step on a different line,\n",
    "give a new name to each result, and check that each intermediate result is what\n",
    "you expect. You can add any additional names or functions you want to the\n",
    "provided cells.\n",
    "\n",
    "To get started, load our usual libraries."
   ]
  },
  {
   "cell_type": "code",
   "execution_count": null,
   "metadata": {},
   "outputs": [],
   "source": [
    "# Run this cell to set up the notebook, but please don't change it.\n",
    "import numpy as np\n",
    "import pandas as pd\n",
    "# Safe settings for Pandas.\n",
    "pd.set_option('mode.chained_assignment', 'raise')\n",
    "\n",
    "%matplotlib inline\n",
    "import matplotlib.pyplot as plt\n",
    "plt.style.use('fivethirtyeight')\n",
    "\n",
    "# Load the OKpy test library and tests.\n",
    "from client.api.notebook import Notebook\n",
    "ok = Notebook('classify_song_1.ok')"
   ]
  },
  {
   "cell_type": "markdown",
   "metadata": {},
   "source": [
    "## 1. The Dataset\n",
    "\n",
    "Our dataset is a table of songs, each with a name, an artist, and a genre.\n",
    "We'll be trying to predict each song's genre.\n",
    "\n",
    "The only attributes we will use to predict the genre of a song are its lyrics.\n",
    "In particular, we have a list of just under 5,000 words that might occur in a\n",
    "song.  For each song, our dataset tells us the frequency with which each of\n",
    "these words occurs in that song. All words have been converted to lowercase.\n",
    "\n",
    "Run the cell below to read the `lyrics` table. **It may take a while to load.**"
   ]
  },
  {
   "cell_type": "code",
   "execution_count": null,
   "metadata": {},
   "outputs": [],
   "source": [
    "lyrics = pd.read_csv('lyrics.csv')\n",
    "# Show the first 6 rows\n",
    "lyrics.head()"
   ]
  },
  {
   "cell_type": "code",
   "execution_count": null,
   "metadata": {},
   "outputs": [],
   "source": [
    "# Show some interesting columns for \"In Your Eyes\"\n",
    "cols = ['Title', 'Artist', 'Genre','i','the', 'you' , 'like', 'love']\n",
    "lyrics.loc[lyrics['Title'] == 'In Your Eyes', cols]"
   ]
  },
  {
   "cell_type": "markdown",
   "metadata": {},
   "source": [
    "That cell prints a few columns of the row for the country song [\"In Your Eyes\"\n",
    "by Alison Krauss](http://www.azlyrics.com/lyrics/alisonkrauss/inyoureyes.html).\n",
    "The song contains 168 words. The word \"like\" appears twice:  $\\frac{2}{168}\n",
    "\\approx 0.0119$ of the words in the song. The word \"love\" appears 10 times:\n",
    "$\\frac{10}{168} \\approx 0.0595$ of the words. The word \"the\" doesn't appear at\n",
    "all.\n",
    "\n",
    "Our dataset doesn't contain all information about a song.  For example, it\n",
    "doesn't describe the order of words in the song, let alone the melody,\n",
    "instruments, or rhythm. Nonetheless, you may find that word frequencies alone\n",
    "are sufficient to build an accurate genre classifier."
   ]
  },
  {
   "cell_type": "markdown",
   "metadata": {},
   "source": [
    "All titles are unique.  To make it more convenient to fetch information about\n",
    "songs by their title, we replace the original data frame with a new version\n",
    "where the Pandas index (row labels) is (are) from the \"Title\" column.  For\n",
    "later convenience, we will also leave the \"Title\" column in the data frame.  Of\n",
    "course this means that the row label and the value of the \"Title\" column for\n",
    "the row are always the same."
   ]
  },
  {
   "cell_type": "code",
   "execution_count": null,
   "metadata": {},
   "outputs": [],
   "source": [
    "# Run this cell.\n",
    "# Set the row labels to be the titles.  Leave the titles as a column in the\n",
    "# data frame.\n",
    "lyrics = lyrics.set_index('Title', drop=False)\n",
    "# Show the first six rows.\n",
    "lyrics.head()"
   ]
  },
  {
   "cell_type": "markdown",
   "metadata": {},
   "source": [
    "This makes it easier to get the song, using the title, by using `.loc` (label)\n",
    "indexing on `lyrics`."
   ]
  },
  {
   "cell_type": "code",
   "execution_count": null,
   "metadata": {},
   "outputs": [],
   "source": [
    "lyrics.loc['In Your Eyes']"
   ]
  },
  {
   "cell_type": "markdown",
   "metadata": {},
   "source": [
    "For example, the fastest way to find the frequency of \"love\" in the song *In\n",
    "Your Eyes* is to access the `'love'` column from its row, like this:"
   ]
  },
  {
   "cell_type": "code",
   "execution_count": null,
   "metadata": {},
   "outputs": [],
   "source": [
    "lyrics.loc['In Your Eyes', 'love']"
   ]
  },
  {
   "cell_type": "markdown",
   "metadata": {},
   "source": [
    "### Question 1.1\n",
    "\n",
    "Set `expected_row_sum` to the number that you expect will result from summing\n",
    "all proportions in each row of `lyrics`, excluding the first three columns."
   ]
  },
  {
   "cell_type": "code",
   "execution_count": null,
   "metadata": {},
   "outputs": [],
   "source": [
    "#- Set row_sum to a number that's the (approximate) sum of each row of word\n",
    "#- proportions.\n",
    "expected_row_sum = ..."
   ]
  },
  {
   "cell_type": "code",
   "execution_count": null,
   "metadata": {},
   "outputs": [],
   "source": [
    "_ = ok.grade('q1_1')"
   ]
  },
  {
   "cell_type": "markdown",
   "metadata": {},
   "source": [
    "Run the cell below to generate a histogram of the actual row sums. It should\n",
    "confirm your answer above, perhaps with a small amount of error."
   ]
  },
  {
   "cell_type": "code",
   "execution_count": null,
   "metadata": {},
   "outputs": [],
   "source": [
    "# Run this cell to display a histogram of the sums of proportions in each row.\n",
    "# This computation might be a little slow.\n",
    "# 'i' is the first word frequency column.\n",
    "lyrics.loc[:, 'i':].sum(axis='columns').plot.hist()\n",
    "# Matplotlib will show x values offset from 1 by default - fix.\n",
    "plt.ticklabel_format(style='plain', useOffset=False)\n",
    "plt.xticks(rotation=45);"
   ]
  },
  {
   "cell_type": "markdown",
   "metadata": {},
   "source": [
    "This dataset was extracted from the [Million Song\n",
    "Dataset](http://labrosa.ee.columbia.edu/millionsong/). Specifically, we are\n",
    "using the complementary datasets from\n",
    "[musiXmatch](http://labrosa.ee.columbia.edu/millionsong/musixmatch) and\n",
    "[Last.fm](http://labrosa.ee.columbia.edu/millionsong/lastfm).\n",
    "\n",
    "The counts of common words in the lyrics for all of these songs are provided by\n",
    "the musiXmatch dataset (called a bag-of-words format). We converted the words\n",
    "to lowercase, removed the naughty ones, and converted the counts to\n",
    "frequencies.\n",
    "\n",
    "The Last.fm dataset contains multiple tags for each song in the Million Song\n",
    "Dataset. Some of the tags are genre-related, such as \"pop\", \"rock\", \"classic\",\n",
    "etc.  To construct the `Genre` column, we first extracted songs with Last.fm\n",
    "tags that included the words \"country\", or both \"hip\" and \"hop\". These songs\n",
    "were then cross-referenced with the musiXmatch dataset, and only songs with\n",
    "musixMatch lyrics were placed into our dataset.\n",
    "\n",
    "The number of songs in the data frame is just the number of rows in the data\n",
    "frame."
   ]
  },
  {
   "cell_type": "code",
   "execution_count": null,
   "metadata": {},
   "outputs": [],
   "source": [
    "# Run this cell.\n",
    "print('Songs with genres:', len(lyrics))"
   ]
  },
  {
   "cell_type": "markdown",
   "metadata": {},
   "source": [
    "The number of words for which we have frequencies, is the number of columns,\n",
    "after the first three non-frequency columns, \"Title\", \"Artist\" and \"Genre\"."
   ]
  },
  {
   "cell_type": "code",
   "execution_count": null,
   "metadata": {},
   "outputs": [],
   "source": [
    "# Run this cell.\n",
    "# Get the column names as a list, throw away the first three.\n",
    "word_col_names = list(lyrics)[3:]\n",
    "print('Words with frequencies:', len(word_col_names))"
   ]
  },
  {
   "cell_type": "markdown",
   "metadata": {},
   "source": [
    "## 1.1. Word Stemming\n",
    "\n",
    "The columns other than \"Title\", \"Artist\", and \"Genre\" in the `lyrics`\n",
    "data frame are all words that appear in some of the songs in our dataset.  Some\n",
    "of those names have been *stemmed*, or abbreviated heuristically, in an attempt\n",
    "to make different [inflected](https://en.wikipedia.org/wiki/Inflection) forms\n",
    "of the same base word into the same string.  For example, the column \"manag\" is\n",
    "the sum of proportions of the words \"manage\", \"manager\", \"managed\", and\n",
    "\"managerial\" (and perhaps others) in each song.\n",
    "\n",
    "Stemming makes it a little tricky to search for the words you want to use, so\n",
    "we have provided another table that will let you see examples of unstemmed\n",
    "versions of each stemmed word.  Run the code below to load it."
   ]
  },
  {
   "cell_type": "code",
   "execution_count": null,
   "metadata": {},
   "outputs": [],
   "source": [
    "# Just run this cell.\n",
    "# Get data frame giving stem and word pairs.\n",
    "vocab_mapping = pd.read_csv('mxm_reverse_mapping_safe.csv')\n",
    "# Make a table for the word stems in the lyrics data frame.\n",
    "stems = pd.DataFrame()\n",
    "stems['Stem'] = sorted(word_col_names)\n",
    "# Look up the lyrics column names in the vocab_mapping data frame.\n",
    "vocab_table = stems.merge(vocab_mapping, on='Stem')\n",
    "# Show some example rows\n",
    "vocab_table.iloc[np.arange(1100, 1106), :]"
   ]
  },
  {
   "cell_type": "markdown",
   "metadata": {},
   "source": [
    "### Question 1.1.1\n",
    "\n",
    "Assign `unchanged` to the **percentage** of words in `vocab_table` that are the\n",
    "same as their stemmed form (such as \"devour\" above).\n",
    "\n",
    "*Hint:*  You might try comparing the columns, and then using `count_nonzero`,\n",
    "on the way to a solution."
   ]
  },
  {
   "cell_type": "code",
   "execution_count": null,
   "metadata": {},
   "outputs": [],
   "source": [
    "percent_unchanged = ...\n",
    "print(round(percent_unchanged, 2), 'percent are unchanged')"
   ]
  },
  {
   "cell_type": "code",
   "execution_count": null,
   "metadata": {},
   "outputs": [],
   "source": [
    "_ = ok.grade(\"q1_1_1\")"
   ]
  },
  {
   "cell_type": "markdown",
   "metadata": {},
   "source": [
    "### Question 1.1.2\n",
    "\n",
    "Assign `stemmed_message` to the stemmed version of the word \"message\".\n",
    "\n",
    "*Hint*: the stemmed version of the word is in the \"Stem\" column of\n",
    "`vocab_table`."
   ]
  },
  {
   "cell_type": "code",
   "execution_count": null,
   "metadata": {},
   "outputs": [],
   "source": [
    "#- Set stemmed_message to the stemmed version of \"message\" (which\n",
    "#- should be a string).  Use vocab_table.\n",
    "stemmed_message = ...\n",
    "stemmed_message"
   ]
  },
  {
   "cell_type": "code",
   "execution_count": null,
   "metadata": {},
   "outputs": [],
   "source": [
    "_ = ok.grade(\"q1_1_2\")"
   ]
  },
  {
   "cell_type": "markdown",
   "metadata": {},
   "source": [
    "### Question 1.1.3\n",
    "\n",
    "Assign `unstemmed_singl` to the word in `vocab_table` that has \"singl\" as its\n",
    "stemmed form. (*Note that multiple English words may stem to \"singl\", but only\n",
    "one example appears in `vocab_table`.*)"
   ]
  },
  {
   "cell_type": "code",
   "execution_count": null,
   "metadata": {},
   "outputs": [],
   "source": [
    "#- Set unstemmed_singl to the unstemmed version of \"singl\" (which\n",
    "#- should be a string).\n",
    "unstemmed_singl = ...\n",
    "unstemmed_singl"
   ]
  },
  {
   "cell_type": "code",
   "execution_count": null,
   "metadata": {},
   "outputs": [],
   "source": [
    "_ = ok.grade('q1_1_3')"
   ]
  },
  {
   "cell_type": "markdown",
   "metadata": {},
   "source": [
    "## 1.2. Splitting the dataset\n",
    "\n",
    "We're going to use our `lyrics` dataset for two purposes.\n",
    "\n",
    "1. First, we want to *train* song genre classifiers.\n",
    "2. Second, we want to *test* the performance of our classifiers.\n",
    "\n",
    "Hence, we need two different datasets: *training* and *test*.\n",
    "\n",
    "The purpose of a classifier is to classify unseen data that is similar to the\n",
    "training data. Therefore, we must ensure that there are no songs that appear in\n",
    "both sets. We do so by splitting the dataset randomly. The dataset has already\n",
    "been permuted randomly, so it's easy to split.  We just take the top for\n",
    "training and the rest for test.\n",
    "\n",
    "Run the code below (without changing it) to separate the datasets into two\n",
    "tables."
   ]
  },
  {
   "cell_type": "code",
   "execution_count": null,
   "metadata": {},
   "outputs": [],
   "source": [
    "# Here we have defined the proportion of our data\n",
    "# that we want to designate for training as 11/16ths\n",
    "# of our total dataset.  5/16ths of the data is\n",
    "# reserved for testing.\n",
    "\n",
    "training_proportion = 11/16\n",
    "\n",
    "num_songs = len(lyrics)\n",
    "num_train = int(num_songs * training_proportion)\n",
    "num_valid = num_songs - num_train\n",
    "\n",
    "train_lyrics = lyrics.iloc[:num_train]\n",
    "test_lyrics = lyrics.iloc[num_train:]\n",
    "\n",
    "print(\"Training: \",   len(train_lyrics), \";\",\n",
    "      \"Test: \",       len(test_lyrics))"
   ]
  },
  {
   "cell_type": "markdown",
   "metadata": {},
   "source": [
    "Run the code below to display a horizontal bar chart with two bars that show\n",
    "the proportion of Country songs in each dataset.  We use the function\n",
    "`country_proportion` to help us create the bar chart."
   ]
  },
  {
   "cell_type": "code",
   "execution_count": null,
   "metadata": {
    "for_assignment_type": "student",
    "manual_problem_id": "music_1_2_1"
   },
   "outputs": [],
   "source": [
    "def country_proportion(df):\n",
    "    \"\"\"Return the proportion of songs in a data frame of Country genre.\n",
    "    \"\"\"\n",
    "    genre_counts = df['Genre'].value_counts()\n",
    "    return genre_counts['Country'] / len(df)\n",
    "\n",
    "plt.barh(['Test', 'Training'],\n",
    "         [country_proportion(test_lyrics), country_proportion(train_lyrics)]);"
   ]
  },
  {
   "cell_type": "markdown",
   "metadata": {},
   "source": [
    "## 2. K-Nearest Neighbors - a Guided Example\n",
    "\n",
    "K-Nearest Neighbors (k-NN) is a classification algorithm.  Given some\n",
    "*attributes* (also called *features*) of an unseen example, it decides whether\n",
    "that example belongs to one or the other of two categories based on its\n",
    "similarity to previously seen examples. Predicting the category of an example\n",
    "is called *labeling*, and the predicted category is also called a *label*.\n",
    "\n",
    "An attribute (feature) we have about each song is *the proportion of times a\n",
    "particular word appears in the lyrics*, and the labels are two music genres:\n",
    "hip-hop and country.  The algorithm requires many previously seen examples for\n",
    "which both the attributes and labels are known: that's the `train_lyrics`\n",
    "table.\n",
    "\n",
    "To build understanding, we're going to visualize the algorithm instead of just\n",
    "describing it.\n"
   ]
  },
  {
   "cell_type": "markdown",
   "metadata": {},
   "source": [
    "## 2.1. Classifying a  song\n",
    "\n",
    "In k-NN, we classify a song by finding the `k` songs in the *training set* that\n",
    "are most similar according to the features we choose. We call those songs with\n",
    "similar features the *nearest neighbors*.  The k-NN algorithm assigns the song\n",
    "to the most common category among its `k` nearest neighbors.\n",
    "\n",
    "Let's limit ourselves to just 2 features for now, so we can plot each song.\n",
    "The features we will use are the proportions of the words \"like\" and \"love\" in\n",
    "the lyrics.  Taking the song \"In Your Eyes\" (in the test set), 0.0119 of its\n",
    "words are \"like\" and 0.0595 are \"love\". This song appears in the test set, so\n",
    "let's imagine that we don't yet know its genre.\n",
    "\n",
    "First, we need to make our notion of similarity more precise.  We will say that\n",
    "the *distance* between two songs is the straight-line distance between them\n",
    "when we plot their features in a scatter diagram. This distance is called the\n",
    "Euclidean (\"yoo-KLID-ee-un\") distance, whose formula is $\\sqrt{(x_1 - x_2)^2 +\n",
    "(y_1 - y_2)^2}$.\n",
    "\n",
    "For example, in the song *Insane in the Brain* (in the training set), 0.0203 of\n",
    "all the words in the song are \"like\" and 0 are \"love\".  Its distance from *In\n",
    "Your Eyes* on this 2-word feature set is $\\sqrt{(0.0119 - 0.0203)^2 + (0.0595 -\n",
    "0)^2} \\approx 0.06$.  (If we included more or different features, the distance\n",
    "could be different.)\n",
    "\n",
    "A third song, *Sangria Wine* (in the training set), is 0.0044 \"like\" and 0.0925\n",
    "\"love\".\n",
    "\n",
    "The function below creates a plot to display the \"like\" and \"love\" features of\n",
    "a test song and some training songs. As you can see in the result, *In Your\n",
    "Eyes* is more similar to *Sangria Wine* than to *Insane in the Brain*."
   ]
  },
  {
   "cell_type": "code",
   "execution_count": null,
   "metadata": {},
   "outputs": [],
   "source": [
    "# Just run this cell.\n",
    "\n",
    "def genre_to_color(v):\n",
    "    \"\"\" Return 'gold' for 'Country', 'darkblue' for 'Hip-hop', 'red' otherwise.\n",
    "    \"\"\"\n",
    "    if v == 'Country':\n",
    "        return 'gold'\n",
    "    elif v == 'Hip-hop':\n",
    "        return 'darkblue'\n",
    "    return 'red'\n",
    "\n",
    "\n",
    "def plot_with_two_features(test_song, training_songs, x_feature, y_feature):\n",
    "    \"\"\"Plot a test song and training songs using two features.\"\"\"\n",
    "    # Columns to fetch.\n",
    "    cols = [x_feature, y_feature, 'Genre']\n",
    "    distances = lyrics.loc[training_songs, cols].copy()\n",
    "    # Append row for test row\n",
    "    test_row = lyrics.loc[test_song, cols].copy()\n",
    "    test_row['Genre'] = 'Unknown'\n",
    "    distances = distances.append(test_row)\n",
    "    distances['Color'] = distances['Genre'].apply(genre_to_color)\n",
    "    distances.plot.scatter(x_feature, y_feature, c='Color', s=200)\n",
    "\n",
    "training = [\"Sangria Wine\", \"Insane In The Brain\"]\n",
    "plot_with_two_features(\"In Your Eyes\", training, \"like\", \"love\")"
   ]
  },
  {
   "cell_type": "markdown",
   "metadata": {},
   "source": [
    "### Question 2.1.1\n",
    "\n",
    "Compute the distance between the two country songs, *In Your Eyes* and *Sangria\n",
    "Wine*, using the `like` and `love` features only.  Assign it the name\n",
    "`country_distance`.\n",
    "\n",
    "**Note:** If you have a row Series, you can use `.loc` (label) indexing to get\n",
    "a value from a column by its name.  For example, if `r` is a Series from a row,\n",
    "then `r.loc[\"Genre\"]` is the value in column `\"Genre\"` in row `r`.\n",
    "\n",
    "**Note 2:** You can quickly get the row from the `lyrics` table using\n",
    "`.loc` (label) indexing by title.  For example, `lyrics.loc[\"Insane In\n",
    "The Brain\"]` is the row Series for this song."
   ]
  },
  {
   "cell_type": "code",
   "execution_count": null,
   "metadata": {},
   "outputs": [],
   "source": [
    "in_your_eyes = lyrics.loc[\"In Your Eyes\"]\n",
    "sangria_wine = lyrics.loc[\"Sangria Wine\"]\n",
    "like_diff = ...\n",
    "love_diff = ...\n",
    "country_distance = ...\n",
    "country_distance"
   ]
  },
  {
   "cell_type": "code",
   "execution_count": null,
   "metadata": {},
   "outputs": [],
   "source": [
    "_ = ok.grade(\"q2_1_1\")"
   ]
  },
  {
   "cell_type": "markdown",
   "metadata": {},
   "source": [
    "The `plot_with_two_features` function can show the positions of several\n",
    "training songs. Below, we've added one that's even closer to *In Your Eyes*."
   ]
  },
  {
   "cell_type": "code",
   "execution_count": null,
   "metadata": {},
   "outputs": [],
   "source": [
    "training = [\"Sangria Wine\", \"Lookin' for Love\", \"Insane In The Brain\"]\n",
    "plot_with_two_features(\"In Your Eyes\", training, \"like\", \"love\")"
   ]
  },
  {
   "cell_type": "markdown",
   "metadata": {},
   "source": [
    "### Question 2.1.2\n",
    "\n",
    "Complete the function `distance_two_features` that computes the Euclidean\n",
    "distance between any two songs, using two features. The last two lines call\n",
    "your function to show that *Lookin' for Love* is closer to *In Your Eyes* than\n",
    "*Insane In The Brain*.\n",
    "\n",
    "*Hint* Consider copying your code above, that works for the particular titles,\n",
    "and particular features, and making the code work for any titles, and any\n",
    "features."
   ]
  },
  {
   "cell_type": "code",
   "execution_count": null,
   "metadata": {},
   "outputs": [],
   "source": [
    "def distance_two_features(title0, title1, x_feature, y_feature):\n",
    "    \"\"\"Compute the distance between two songs with titles title0 and title1\n",
    "\n",
    "    Only the features named x_feature and y_feature are used when computing the distance.\n",
    "    \"\"\"\n",
    "    row0 = ...\n",
    "    row1 = ...\n",
    "    ...\n",
    "\n",
    "for song in [\"Lookin' for Love\", \"Insane In The Brain\"]:\n",
    "    song_distance = distance_two_features(song, \"In Your Eyes\", \"like\", \"love\")\n",
    "    print(song, 'distance:\\t', song_distance)"
   ]
  },
  {
   "cell_type": "code",
   "execution_count": null,
   "metadata": {},
   "outputs": [],
   "source": [
    "_ = ok.grade(\"q2_1_2\")"
   ]
  },
  {
   "cell_type": "markdown",
   "metadata": {},
   "source": [
    "### Question 2.1.3\n",
    "\n",
    "Define the function `distance_from_in_your_eyes` so that it works as described\n",
    "in its documentation (the function \"docstring\").\n",
    "\n",
    "*Hint*: Make use of your `distance_two_features` function.\n"
   ]
  },
  {
   "cell_type": "code",
   "execution_count": null,
   "metadata": {},
   "outputs": [],
   "source": [
    "def distance_from_in_your_eyes(title):\n",
    "    \"\"\"Distance between the given song and \"In Your Eyes\", based on the features \"like\" and \"love\".\n",
    "\n",
    "    Parameters\n",
    "    ----------\n",
    "    title: str\n",
    "        A string, the name of a song.\n",
    "\n",
    "    Returns\n",
    "    -------\n",
    "    distance : number\n",
    "        Floating point number; distance between song with title `title`, and \"In Your Eyes\", using \"like\" and \"love\" as features.\n",
    "    \"\"\"\n",
    "    ..."
   ]
  },
  {
   "cell_type": "code",
   "execution_count": null,
   "metadata": {},
   "outputs": [],
   "source": [
    "# Try the function out on a test song.\n",
    "# This should give the same answer you saw in the cell further above.\n",
    "distance_from_in_your_eyes(\"Lookin' for Love\")"
   ]
  },
  {
   "cell_type": "code",
   "execution_count": null,
   "metadata": {},
   "outputs": [],
   "source": [
    "_ = ok.grade('q2_1_3')"
   ]
  },
  {
   "cell_type": "markdown",
   "metadata": {},
   "source": [
    "### Question 2.1.4\n",
    "\n",
    "Using the features `\"like\"` and `\"love\"`, what are the names and genres of the\n",
    "7 songs in the **training set** closest to \"In Your Eyes\"?  To answer this\n",
    "question, make a table named `close_songs` containing those 7 songs with\n",
    "columns `\"Title\"`, `\"Artist\"`, `\"Genre\"`, `\"like\"`, and `\"love\"`, as well as a\n",
    "column called `\"distance\"` that contains the distance from \"In Your Eyes\".  The\n",
    "table should be **sorted in ascending order by `distance`**.\n",
    "\n",
    "*Hint*: there are various ways of doing this.\n",
    "\n",
    "*Hint*: One way of doing this involves using `apply` on the \"Title\" column of a\n",
    "new data frame."
   ]
  },
  {
   "cell_type": "code",
   "execution_count": null,
   "metadata": {
    "for_assignment_type": "student"
   },
   "outputs": [],
   "source": [
    "train_songs = ...\n",
    "close_songs = ...\n",
    "close_songs"
   ]
  },
  {
   "cell_type": "code",
   "execution_count": null,
   "metadata": {},
   "outputs": [],
   "source": [
    "_ = ok.grade(\"q2_1_4\")"
   ]
  },
  {
   "cell_type": "markdown",
   "metadata": {},
   "source": [
    "**Question 2.1.5**\n",
    "\n",
    "Define the function `most_common` so that it works as described in its\n",
    "docstring below.\n",
    "\n",
    "*Hint* : one way of doing this involves `value_counts`."
   ]
  },
  {
   "cell_type": "code",
   "execution_count": null,
   "metadata": {},
   "outputs": [],
   "source": [
    "    ...\n",
    "# Calling most_common on your table of 7 nearest neighbors classifies\n",
    "# \"In Your Eyes\" as a country song, 4 votes to 3.\n",
    "most_common('Genre', close_songs)"
   ]
  },
  {
   "cell_type": "code",
   "execution_count": null,
   "metadata": {},
   "outputs": [],
   "source": [
    "_ = ok.grade(\"q2_1_5\")"
   ]
  },
  {
   "cell_type": "markdown",
   "metadata": {},
   "source": [
    "Congratulations are in order -- you've classified your first song!\n"
   ]
  },
  {
   "cell_type": "markdown",
   "metadata": {},
   "source": [
    "## The end\n",
    "\n",
    "You're finished with part 1! We'll pick up from here for part 2, when we finish\n",
    "our song classifier.\n",
    "\n",
    "Be sure to:\n",
    "\n",
    "- **run all the tests** (the next cell has a shortcut for that).\n",
    "- **Save and Checkpoint** from the `File` menu."
   ]
  },
  {
   "cell_type": "code",
   "execution_count": null,
   "metadata": {},
   "outputs": [],
   "source": [
    "# For your convenience, you can run this cell to run all the tests at once!\n",
    "import os\n",
    "_ = [ok.grade(q[:-3]) for q in os.listdir(\"tests\") if q.startswith('q')]"
   ]
  }
 ],
 "metadata": {
  "jupytext": {
   "notebook_metadata_filter": "all,-language_info",
   "split_at_heading": true,
   "text_representation": {
    "extension": ".Rmd",
    "format_name": "rmarkdown",
    "format_version": "1.2",
    "jupytext_version": "1.10.0"
   }
  },
  "kernelspec": {
   "display_name": "Python 3",
   "language": "python",
   "name": "python3"
  }
 },
 "nbformat": 4,
 "nbformat_minor": 4
}
